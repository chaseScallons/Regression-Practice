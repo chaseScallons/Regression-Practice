{
  "nbformat": 4,
  "nbformat_minor": 0,
  "metadata": {
    "colab": {
      "provenance": [],
      "authorship_tag": "ABX9TyMKc3F3WPT8sVVbCo/bIuuS",
      "include_colab_link": true
    },
    "kernelspec": {
      "name": "python3",
      "display_name": "Python 3"
    },
    "language_info": {
      "name": "python"
    }
  },
  "cells": [
    {
      "cell_type": "markdown",
      "metadata": {
        "id": "view-in-github",
        "colab_type": "text"
      },
      "source": [
        "<a href=\"https://colab.research.google.com/github/chaseScallons/Regression-Analysis-Test/blob/main/Regression_Tensorflow.ipynb\" target=\"_parent\"><img src=\"https://colab.research.google.com/assets/colab-badge.svg\" alt=\"Open In Colab\"/></a>"
      ]
    },
    {
      "cell_type": "code",
      "execution_count": 75,
      "metadata": {
        "colab": {
          "base_uri": "https://localhost:8080/"
        },
        "id": "CeV7NK3zgPaQ",
        "outputId": "2fbec097-15f9-4dac-9ed5-3c2a0598dccf"
      },
      "outputs": [
        {
          "output_type": "stream",
          "name": "stdout",
          "text": [
            "2.9.2\n"
          ]
        }
      ],
      "source": [
        "# Import dependencies\n",
        "import tensorflow as tf         # Model Implementation\n",
        "#import numpy as np              # Linear Algebra\n",
        "import matplotlib.pyplot as plt # Visualization\n",
        "print(tf.__version__)"
      ]
    },
    {
      "cell_type": "code",
      "source": [
        "# Initialize feature space\n",
        "X = tf.range(-100, 100, 4)\n",
        "\n",
        "# Initialize label space\n",
        "y = X + 10\n",
        "\n",
        "# Cross-validation\n",
        "X_train = X[:40] # First 40 samples are training samples --> %80 of data\n",
        "y_train = y[:40]\n",
        "\n",
        "X_test = X[40:]  # Last 10 samples are testing samples --> %20 of data\n",
        "y_test = y[40:]\n"
      ],
      "metadata": {
        "id": "8bbKhyqagcI2",
        "colab": {
          "base_uri": "https://localhost:8080/"
        },
        "outputId": "eb576cf6-b629-4147-dbde-81bac76c0ef1"
      },
      "execution_count": 61,
      "outputs": [
        {
          "output_type": "execute_result",
          "data": {
            "text/plain": [
              "TensorShape([40])"
            ]
          },
          "metadata": {},
          "execution_count": 61
        }
      ]
    },
    {
      "cell_type": "markdown",
      "source": [
        "# Building the ML model\n"
      ],
      "metadata": {
        "id": "G1GRlFxUw3ZV"
      }
    },
    {
      "cell_type": "code",
      "source": [
        "# 1. Create the model using Sequential API\n",
        "model = tf.keras.Sequential([\n",
        "    tf.keras.layers.Dense(1) # 1 Hidden layer, 1 Neuron\n",
        "])"
      ],
      "metadata": {
        "id": "EhA9kYc5iF7V"
      },
      "execution_count": 66,
      "outputs": []
    },
    {
      "cell_type": "code",
      "source": [
        "from tensorflow.python import metrics\n",
        "\n",
        "# 2. Compile model\n",
        "model.compile(loss=tf.keras.losses.mae,            # Loss function is Mean Absolute Error (On average how wrong are the predictions?)\n",
        "              optimizer=tf.keras.optimizers.SGD(), # Optimizer is Stochtastic Gradient Descent\n",
        "              metrics=[\"mae\"]) "
      ],
      "metadata": {
        "id": "V33LcEM3jBBp"
      },
      "execution_count": 67,
      "outputs": []
    },
    {
      "cell_type": "code",
      "source": [
        "from os import name\n",
        "# Summary of the model\n",
        "tf.random.set_seed(54)\n",
        "\n",
        "model = tf.keras.Sequential([\n",
        "    tf.keras.layers.Dense(10, input_shape=[1], name=\"Input_layer\"),\n",
        "    tf.keras.layers.Dense(1, name=\"Output_layer\")\n",
        "], name=\"Regression_model\")\n",
        "\n",
        "model.compile(loss=tf.keras.losses.mae,\n",
        "              optimizer=tf.keras.optimizers.SGD(),\n",
        "              metrics=[\"mae\"])\n",
        "\n",
        "model.summary()\n",
        "\n",
        "# Dense == Fully connected\n",
        "# Trainable Params == X, y"
      ],
      "metadata": {
        "colab": {
          "base_uri": "https://localhost:8080/"
        },
        "id": "TNrQfcSC_kzr",
        "outputId": "e22c1111-9f7c-46cf-abe2-b388d57f5875"
      },
      "execution_count": 90,
      "outputs": [
        {
          "output_type": "stream",
          "name": "stdout",
          "text": [
            "Model: \"Regression_model\"\n",
            "_________________________________________________________________\n",
            " Layer (type)                Output Shape              Param #   \n",
            "=================================================================\n",
            " Input_layer (Dense)         (None, 10)                20        \n",
            "                                                                 \n",
            " Output_layer (Dense)        (None, 1)                 11        \n",
            "                                                                 \n",
            "=================================================================\n",
            "Total params: 31\n",
            "Trainable params: 31\n",
            "Non-trainable params: 0\n",
            "_________________________________________________________________\n"
          ]
        }
      ]
    },
    {
      "cell_type": "code",
      "source": [
        "# 3. Fitting the model to data  \n",
        "model.fit(tf.expand_dims(X_train, axis=-1), y_train, epochs=100, verbose=0) # Train model on data for 50 cycles\n",
        "                                                                            # Verbose hides fitting"
      ],
      "metadata": {
        "id": "DuvLszKijlT5",
        "colab": {
          "base_uri": "https://localhost:8080/"
        },
        "outputId": "4d50905d-9e11-4926-b66a-ba4a6e121685"
      },
      "execution_count": 91,
      "outputs": [
        {
          "output_type": "execute_result",
          "data": {
            "text/plain": [
              "<keras.callbacks.History at 0x7f9b06a40850>"
            ]
          },
          "metadata": {},
          "execution_count": 91
        }
      ]
    },
    {
      "cell_type": "code",
      "source": [
        "# Visualization of the models layers\n",
        "from tensorflow.keras.utils import plot_model\n",
        "\n",
        "plot_model(model=model,show_shapes=True)"
      ],
      "metadata": {
        "colab": {
          "base_uri": "https://localhost:8080/",
          "height": 312
        },
        "id": "QB_Ex0q5GW4i",
        "outputId": "af15edf1-08cf-4ce7-bf99-110eb008ff85"
      },
      "execution_count": 92,
      "outputs": [
        {
          "output_type": "execute_result",
          "data": {
            "image/png": "[encoded data removed]",
            "text/plain": [
              "<IPython.core.display.Image object>"
            ]
          },
          "metadata": {},
          "execution_count": 92
        }
      ]
    },
    {
      "cell_type": "markdown",
      "source": [
        "# Visualization of the models predictions\n",
        "\n"
      ],
      "metadata": {
        "id": "k_jZHUBIJ5yL"
      }
    },
    {
      "cell_type": "code",
      "source": [
        "y_pred = model.predict(X_test)\n",
        "y_pred"
      ],
      "metadata": {
        "id": "xZXly5At0Dk2",
        "colab": {
          "base_uri": "https://localhost:8080/"
        },
        "outputId": "3ec07666-4578-4b01-b3a8-85a25e917f6f"
      },
      "execution_count": 96,
      "outputs": [
        {
          "output_type": "stream",
          "name": "stderr",
          "text": [
            "WARNING:tensorflow:6 out of the last 7 calls to <function Model.make_predict_function.<locals>.predict_function at 0x7f9b0690f310> triggered tf.function retracing. Tracing is expensive and the excessive number of tracings could be due to (1) creating @tf.function repeatedly in a loop, (2) passing tensors with different shapes, (3) passing Python objects instead of tensors. For (1), please define your @tf.function outside of the loop. For (2), @tf.function has reduce_retracing=True option that can avoid unnecessary retracing. For (3), please refer to https://www.tensorflow.org/guide/function#controlling_retracing and https://www.tensorflow.org/api_docs/python/tf/function for  more details.\n"
          ]
        },
        {
          "output_type": "stream",
          "name": "stdout",
          "text": [
            "1/1 [==============================] - 0s 61ms/step\n"
          ]
        },
        {
          "output_type": "execute_result",
          "data": {
            "text/plain": [
              "array([[17.909472],\n",
              "       [19.016768],\n",
              "       [20.124062],\n",
              "       [21.231358],\n",
              "       [22.338654],\n",
              "       [23.445951],\n",
              "       [24.553247],\n",
              "       [25.66054 ],\n",
              "       [26.767838],\n",
              "       [27.875132]], dtype=float32)"
            ]
          },
          "metadata": {},
          "execution_count": 96
        }
      ]
    },
    {
      "cell_type": "code",
      "source": [
        "def plot_predictions(train_data, train_labels, test_data, test_labels, predictions):\n",
        "  # Visualize split datasets\n",
        "  plt.figure(figsize=(10, 7))\n",
        "\n",
        "  # Training data in blue\n",
        "  plt.scatter(train_data, train_labels, c=\"b\", label=\"Training Data\")\n",
        "\n",
        "  # Testing data in red\n",
        "  plt.scatter(test_data, test_labels, c=\"r\", label=\"Testing Data\")\n",
        "\n",
        "  # Plot predictons in green\n",
        "  plt.scatter(test_data, predictions, c=\"g\", label=\"Predictions\")\n",
        "\n",
        "  # Legend\n",
        "  plt.legend()"
      ],
      "metadata": {
        "id": "jefIp8pRJvRJ"
      },
      "execution_count": 99,
      "outputs": []
    },
    {
      "cell_type": "code",
      "source": [
        "plot_predictions(X_train, y_train, X_test, y_test, y_pred)"
      ],
      "metadata": {
        "colab": {
          "base_uri": "https://localhost:8080/",
          "height": 428
        },
        "id": "P2go1eRgJzkU",
        "outputId": "b321c0ca-2375-4034-a60a-eca0ba5bc598"
      },
      "execution_count": 100,
      "outputs": [
        {
          "output_type": "display_data",
          "data": {
            "text/plain": [
              "<Figure size 720x504 with 1 Axes>"
            ],
            "image/png": "[encoded data removed]"
          },
          "metadata": {
            "needs_background": "light"
          }
        }
      ]
    },
    {
      "cell_type": "code",
      "source": [],
      "metadata": {
        "id": "wXuLOlHDLojX"
      },
      "execution_count": null,
      "outputs": []
    }
  ]
}