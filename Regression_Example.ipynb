{
  "nbformat": 4,
  "nbformat_minor": 0,
  "metadata": {
    "colab": {
      "provenance": [],
      "authorship_tag": "ABX9TyNtUeqWi76sgGF4ndnIxi88",
      "include_colab_link": true
    },
    "kernelspec": {
      "name": "python3",
      "display_name": "Python 3"
    },
    "language_info": {
      "name": "python"
    }
  },
  "cells": [
    {
      "cell_type": "markdown",
      "metadata": {
        "id": "view-in-github",
        "colab_type": "text"
      },
      "source": [
        "<a href=\"https://colab.research.google.com/github/chaseScallons/Regression-Analysis-Test/blob/main/Regression_Example.ipynb\" target=\"_parent\"><img src=\"https://colab.research.google.com/assets/colab-badge.svg\" alt=\"Open In Colab\"/></a>"
      ]
    },
    {
      "cell_type": "code",
      "execution_count": 62,
      "metadata": {
        "colab": {
          "base_uri": "https://localhost:8080/"
        },
        "id": "CeV7NK3zgPaQ",
        "outputId": "3735f4ed-14b4-409e-aa8f-5300c686a171"
      },
      "outputs": [
        {
          "output_type": "stream",
          "name": "stdout",
          "text": [
            "2.9.2\n"
          ]
        }
      ],
      "source": [
        "# Import dependencies\n",
        "import tensorflow as tf         # Model Implementation\n",
        "import numpy as np              # Linear Algebra\n",
        "import matplotlib.pyplot as plt # Visualization\n",
        "print(tf.__version__)"
      ]
    },
    {
      "cell_type": "code",
      "source": [
        "# Initialize feature space\n",
        "X = np.array([-7.0, -4.0, -1.0, 2.0, 5.0, 8.0, 11.0, 14.0])\n",
        "\n",
        "# Initialize label space\n",
        "y = np.array([3.0, 6.0, 9.0, 12.0, 15.0, 18.0, 21.0, 24.0])"
      ],
      "metadata": {
        "id": "8bbKhyqagcI2"
      },
      "execution_count": 63,
      "outputs": []
    },
    {
      "cell_type": "code",
      "source": [
        "# Visualize via Scatter plot\n",
        "plt.scatter(X, y)"
      ],
      "metadata": {
        "colab": {
          "base_uri": "https://localhost:8080/",
          "height": 286
        },
        "id": "5N_mAnBjhn59",
        "outputId": "7d9a4670-b0c5-454e-ec0d-b1c0f44b2895"
      },
      "execution_count": 64,
      "outputs": [
        {
          "output_type": "execute_result",
          "data": {
            "text/plain": [
              "<matplotlib.collections.PathCollection at 0x7f53d8c46970>"
            ]
          },
          "metadata": {},
          "execution_count": 64
        },
        {
          "output_type": "display_data",
          "data": {
            "text/plain": [
              "<Figure size 432x288 with 1 Axes>"
            ],
            "image/png": "[encoded data removed]"
          },
          "metadata": {
            "needs_background": "light"
          }
        }
      ]
    },
    {
      "cell_type": "code",
      "source": [
        "# Converting numpy array into tensors\n",
        "X = tf.constant(X)\n",
        "y = tf.constant(y)"
      ],
      "metadata": {
        "id": "lynhvK-Ohuq9"
      },
      "execution_count": 65,
      "outputs": []
    },
    {
      "cell_type": "code",
      "source": [
        " # Building the ML model \n",
        "\n",
        "# 1. Create the model using Sequential API\n",
        "model = tf.keras.Sequential([\n",
        "    tf.keras.layers.Dense(100, activation=\"relu\"),\n",
        "    tf.keras.layers.Dense(100, activation=\"relu\"),\n",
        "    #tf.keras.layers.Dense(100, activation=\"relu\"),\n",
        "    tf.keras.layers.Dense(1) # 1 Hidden layer, 1 Neuron\n",
        "])"
      ],
      "metadata": {
        "id": "EhA9kYc5iF7V"
      },
      "execution_count": 97,
      "outputs": []
    },
    {
      "cell_type": "code",
      "source": [
        "from tensorflow.python import metrics\n",
        "\n",
        "# 2. Compile the model\n",
        "model.compile(loss=tf.keras.losses.mae,            # Loss function is Mean Absolute Error (On average how wrong are the predictions?)\n",
        "              optimizer=tf.keras.optimizers.Adam(lr=0.01), # Optimizer is Stochtastic Gradient Descent\n",
        "              metrics=[\"mae\"])  "
      ],
      "metadata": {
        "id": "V33LcEM3jBBp"
      },
      "execution_count": 98,
      "outputs": []
    },
    {
      "cell_type": "code",
      "source": [
        "# 3. Fitting the model to data  \n",
        "model.fit(tf.expand_dims(X, axis=-1), y, epochs=50) # Train model on data for 50 cycles"
      ],
      "metadata": {
        "id": "DuvLszKijlT5",
        "colab": {
          "base_uri": "https://localhost:8080/"
        },
        "outputId": "540bc928-30a7-4bb8-80ca-7d74bc07d91f"
      },
      "execution_count": 99,
      "outputs": [
        {
          "output_type": "stream",
          "name": "stdout",
          "text": [
            "Epoch 1/50\n",
            "1/1 [==============================] - 1s 856ms/step - loss: 13.0557 - mae: 13.0557\n",
            "Epoch 2/50\n",
            "1/1 [==============================] - 0s 16ms/step - loss: 10.9337 - mae: 10.9337\n",
            "Epoch 3/50\n",
            "1/1 [==============================] - 0s 8ms/step - loss: 9.2079 - mae: 9.2079\n",
            "Epoch 4/50\n",
            "1/1 [==============================] - 0s 11ms/step - loss: 7.3237 - mae: 7.3237\n",
            "Epoch 5/50\n",
            "1/1 [==============================] - 0s 11ms/step - loss: 5.1178 - mae: 5.1178\n",
            "Epoch 6/50\n",
            "1/1 [==============================] - 0s 8ms/step - loss: 4.1152 - mae: 4.1152\n",
            "Epoch 7/50\n",
            "1/1 [==============================] - 0s 9ms/step - loss: 5.1402 - mae: 5.1402\n",
            "Epoch 8/50\n",
            "1/1 [==============================] - 0s 8ms/step - loss: 5.7458 - mae: 5.7458\n",
            "Epoch 9/50\n",
            "1/1 [==============================] - 0s 12ms/step - loss: 5.7676 - mae: 5.7676\n",
            "Epoch 10/50\n",
            "1/1 [==============================] - 0s 9ms/step - loss: 5.3832 - mae: 5.3832\n",
            "Epoch 11/50\n",
            "1/1 [==============================] - 0s 23ms/step - loss: 4.7345 - mae: 4.7345\n",
            "Epoch 12/50\n",
            "1/1 [==============================] - 0s 8ms/step - loss: 3.9352 - mae: 3.9352\n",
            "Epoch 13/50\n",
            "1/1 [==============================] - 0s 27ms/step - loss: 3.5786 - mae: 3.5786\n",
            "Epoch 14/50\n",
            "1/1 [==============================] - 0s 9ms/step - loss: 3.8636 - mae: 3.8636\n",
            "Epoch 15/50\n",
            "1/1 [==============================] - 0s 25ms/step - loss: 4.4301 - mae: 4.4301\n",
            "Epoch 16/50\n",
            "1/1 [==============================] - 0s 17ms/step - loss: 4.4630 - mae: 4.4630\n",
            "Epoch 17/50\n",
            "1/1 [==============================] - 0s 23ms/step - loss: 4.0810 - mae: 4.0810\n",
            "Epoch 18/50\n",
            "1/1 [==============================] - 0s 14ms/step - loss: 3.3997 - mae: 3.3997\n",
            "Epoch 19/50\n",
            "1/1 [==============================] - 0s 14ms/step - loss: 3.1723 - mae: 3.1723\n",
            "Epoch 20/50\n",
            "1/1 [==============================] - 0s 13ms/step - loss: 3.2419 - mae: 3.2419\n",
            "Epoch 21/50\n",
            "1/1 [==============================] - 0s 14ms/step - loss: 3.4587 - mae: 3.4587\n",
            "Epoch 22/50\n",
            "1/1 [==============================] - 0s 28ms/step - loss: 3.3840 - mae: 3.3840\n",
            "Epoch 23/50\n",
            "1/1 [==============================] - 0s 18ms/step - loss: 3.0994 - mae: 3.0994\n",
            "Epoch 24/50\n",
            "1/1 [==============================] - 0s 32ms/step - loss: 2.6682 - mae: 2.6682\n",
            "Epoch 25/50\n",
            "1/1 [==============================] - 0s 16ms/step - loss: 2.3796 - mae: 2.3796\n",
            "Epoch 26/50\n",
            "1/1 [==============================] - 0s 27ms/step - loss: 2.2839 - mae: 2.2839\n",
            "Epoch 27/50\n",
            "1/1 [==============================] - 0s 26ms/step - loss: 2.0839 - mae: 2.0839\n",
            "Epoch 28/50\n",
            "1/1 [==============================] - 0s 16ms/step - loss: 1.7546 - mae: 1.7546\n",
            "Epoch 29/50\n",
            "1/1 [==============================] - 0s 28ms/step - loss: 1.5625 - mae: 1.5625\n",
            "Epoch 30/50\n",
            "1/1 [==============================] - 0s 21ms/step - loss: 1.3672 - mae: 1.3672\n",
            "Epoch 31/50\n",
            "1/1 [==============================] - 0s 31ms/step - loss: 0.9464 - mae: 0.9464\n",
            "Epoch 32/50\n",
            "1/1 [==============================] - 0s 43ms/step - loss: 0.7287 - mae: 0.7287\n",
            "Epoch 33/50\n",
            "1/1 [==============================] - 0s 18ms/step - loss: 0.6693 - mae: 0.6693\n",
            "Epoch 34/50\n",
            "1/1 [==============================] - 0s 57ms/step - loss: 0.2575 - mae: 0.2575\n",
            "Epoch 35/50\n",
            "1/1 [==============================] - 0s 11ms/step - loss: 0.6659 - mae: 0.6659\n",
            "Epoch 36/50\n",
            "1/1 [==============================] - 0s 12ms/step - loss: 0.5853 - mae: 0.5853\n",
            "Epoch 37/50\n",
            "1/1 [==============================] - 0s 9ms/step - loss: 0.6586 - mae: 0.6586\n",
            "Epoch 38/50\n",
            "1/1 [==============================] - 0s 8ms/step - loss: 0.7048 - mae: 0.7048\n",
            "Epoch 39/50\n",
            "1/1 [==============================] - 0s 10ms/step - loss: 0.5374 - mae: 0.5374\n",
            "Epoch 40/50\n",
            "1/1 [==============================] - 0s 21ms/step - loss: 0.7070 - mae: 0.7070\n",
            "Epoch 41/50\n",
            "1/1 [==============================] - 0s 11ms/step - loss: 0.6445 - mae: 0.6445\n",
            "Epoch 42/50\n",
            "1/1 [==============================] - 0s 12ms/step - loss: 0.9805 - mae: 0.9805\n",
            "Epoch 43/50\n",
            "1/1 [==============================] - 0s 11ms/step - loss: 1.1081 - mae: 1.1081\n",
            "Epoch 44/50\n",
            "1/1 [==============================] - 0s 9ms/step - loss: 0.6618 - mae: 0.6618\n",
            "Epoch 45/50\n",
            "1/1 [==============================] - 0s 15ms/step - loss: 0.4310 - mae: 0.4310\n",
            "Epoch 46/50\n",
            "1/1 [==============================] - 0s 7ms/step - loss: 0.7013 - mae: 0.7013\n",
            "Epoch 47/50\n",
            "1/1 [==============================] - 0s 7ms/step - loss: 0.5306 - mae: 0.5306\n",
            "Epoch 48/50\n",
            "1/1 [==============================] - 0s 12ms/step - loss: 0.6120 - mae: 0.6120\n",
            "Epoch 49/50\n",
            "1/1 [==============================] - 0s 6ms/step - loss: 0.3966 - mae: 0.3966\n",
            "Epoch 50/50\n",
            "1/1 [==============================] - 0s 7ms/step - loss: 0.3021 - mae: 0.3021\n"
          ]
        },
        {
          "output_type": "execute_result",
          "data": {
            "text/plain": [
              "<keras.callbacks.History at 0x7f53d176edc0>"
            ]
          },
          "metadata": {},
          "execution_count": 99
        }
      ]
    },
    {
      "cell_type": "code",
      "source": [
        "# Make a prediction with model\n",
        "y_predict = model.predict([17.0])\n",
        "\n",
        "print(y_predict) "
      ],
      "metadata": {
        "id": "xZXly5At0Dk2",
        "colab": {
          "base_uri": "https://localhost:8080/"
        },
        "outputId": "fbe46970-61f6-46f6-d194-a3b41d0e0628"
      },
      "execution_count": 101,
      "outputs": [
        {
          "output_type": "stream",
          "name": "stdout",
          "text": [
            "1/1 [==============================] - 0s 107ms/step\n",
            "[[26.45593]]\n"
          ]
        }
      ]
    },
    {
      "cell_type": "code",
      "source": [
        "# Evaluating the model"
      ],
      "metadata": {
        "id": "BK2Q0r3y0FW1"
      },
      "execution_count": 102,
      "outputs": []
    },
    {
      "cell_type": "code",
      "source": [],
      "metadata": {
        "id": "9J3Vmy-q14Os"
      },
      "execution_count": 102,
      "outputs": []
    },
    {
      "cell_type": "code",
      "source": [],
      "metadata": {
        "id": "xgWpG1Z98taI"
      },
      "execution_count": null,
      "outputs": []
    },
    {
      "cell_type": "code",
      "source": [],
      "metadata": {
        "id": "g-8_KBcAvdnq"
      },
      "execution_count": null,
      "outputs": []
    }
  ]
}